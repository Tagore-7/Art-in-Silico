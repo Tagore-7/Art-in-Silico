{
 "cells": [
  {
   "cell_type": "markdown",
   "id": "502dd267-4a6c-441e-afc2-4f372a669e30",
   "metadata": {},
   "source": [
    "## BASE MODEL"
   ]
  },
  {
   "cell_type": "code",
   "execution_count": 20,
   "id": "212a42b9-b995-482f-8c9a-900a17de7b0d",
   "metadata": {},
   "outputs": [
    {
     "data": {
      "application/vnd.jupyter.widget-view+json": {
       "model_id": "e70489d22c9d433281b7067618b8f637",
       "version_major": 2,
       "version_minor": 0
      },
      "text/plain": [
       "Loading checkpoint shards:   0%|          | 0/2 [00:00<?, ?it/s]"
      ]
     },
     "metadata": {},
     "output_type": "display_data"
    },
    {
     "name": "stdout",
     "output_type": "stream",
     "text": [
      "Take inspiration from  William Shakespeare and write a poem about of life of international graduate student who doing his masters in michigan technological univerisity.\n",
      "\n",
      "International graduate student, far from home,\n",
      "In Michigan's snowy landscape, all alone.\n",
      "With dreams of knowledge, and a heart full of cheer,\n",
      "He ventures forth, to learn and to hear.\n",
      "\n",
      "His master's degree, a goal to achieve,\n",
      "He toils and studies, through joys and grief.\n",
      "In lectures and labs, he pours his heart and soul\n"
     ]
    }
   ],
   "source": [
    "import torch\n",
    "from transformers import AutoTokenizer, AutoModelForCausalLM\n",
    "import random\n",
    "import os \n",
    "\n",
    "\n",
    "\n",
    "# Load the LLM model and tokenizer\n",
    "tokenizer = AutoTokenizer.from_pretrained(\"meta-llama/Llama-2-7b-chat-hf\")\n",
    "model = AutoModelForCausalLM.from_pretrained(\"meta-llama/Llama-2-7b-chat-hf\",torch_dtype=torch.bfloat16,pad_token_id=tokenizer.eos_token_id)\n",
    "\n",
    "\n",
    "full_prompt = \"Take inspiration from  William Shakespeare and write a poem about of life of international graduate student who doing his masters in michigan technological univerisity\"\n",
    "\n",
    "# Set the padding token for the tokenizer\n",
    "tokenizer.pad_token = tokenizer.eos_token\n",
    "\n",
    "\n",
    "# Tokenize the prompt\n",
    "inputs = tokenizer(full_prompt, return_tensors=\"pt\", truncation=True, padding=True, max_length=128)\n",
    "\n",
    "\n",
    "# Move model to CUDA device if available\n",
    "device1 = torch.device(\"cuda:1\" if torch.cuda.is_available() else \"cpu\")\n",
    "model.to(device1)\n",
    "\n",
    "\n",
    "# Generate response\n",
    "generate_ids = model.generate(inputs.input_ids.to(device1), max_length=128)\n",
    "output = tokenizer.batch_decode(generate_ids, skip_special_tokens=True, clean_up_tokenization_spaces=False)[0]\n",
    "print(output)"
   ]
  },
  {
   "cell_type": "code",
   "execution_count": 21,
   "id": "493bf896-600b-4682-bd0f-a04ac6646b43",
   "metadata": {},
   "outputs": [
    {
     "name": "stdout",
     "output_type": "stream",
     "text": [
      "Take inspiration from  William Shakespeare and write a poem about of life of international graduate student who doing his masters in michigan technological univerisity.\n",
      "\n",
      "Title: A World Away\n",
      "\n",
      "In the land of Michigan, where the snow falls deep,\n",
      "A stranger comes, a student, with a dream to keep.\n",
      "From far-off lands, he journeyed, with a heart full of cheer,\n",
      "To learn and grow, in a place so fair and clear.\n",
      "\n",
      "His eyes, they wander, through the campus green,\n",
      "A world away, from all he's\n"
     ]
    }
   ],
   "source": [
    "# Generate response\n",
    "generate_ids = model.generate(inputs.input_ids.to(device1), max_length=128,do_sample=True,\n",
    "    top_k=50,\n",
    "    top_p=0.95)\n",
    "output = tokenizer.batch_decode(generate_ids, skip_special_tokens=True, clean_up_tokenization_spaces=False)[0]\n",
    "print(output)"
   ]
  },
  {
   "cell_type": "code",
   "execution_count": 1,
   "id": "f028d636-2e05-4421-ba78-de4e60ba7b27",
   "metadata": {},
   "outputs": [
    {
     "data": {
      "application/vnd.jupyter.widget-view+json": {
       "model_id": "57eb42383a83445d99d93b2724b52c2e",
       "version_major": 2,
       "version_minor": 0
      },
      "text/plain": [
       "Downloading shards:   0%|          | 0/3 [00:00<?, ?it/s]"
      ]
     },
     "metadata": {},
     "output_type": "display_data"
    },
    {
     "data": {
      "application/vnd.jupyter.widget-view+json": {
       "model_id": "2799016f613e451f8e726a9f852c8578",
       "version_major": 2,
       "version_minor": 0
      },
      "text/plain": [
       "Loading checkpoint shards:   0%|          | 0/3 [00:00<?, ?it/s]"
      ]
     },
     "metadata": {},
     "output_type": "display_data"
    },
    {
     "name": "stderr",
     "output_type": "stream",
     "text": [
      "The attention mask and the pad token id were not set. As a consequence, you may observe unexpected behavior. Please pass your input's `attention_mask` to obtain reliable results.\n",
      "Setting `pad_token_id` to `eos_token_id`:2 for open-end generation.\n"
     ]
    },
    {
     "name": "stdout",
     "output_type": "stream",
     "text": [
      "Take inspiration from  William Shakespeare and write a poem about of life of international graduate student who doing his masters in michigan technological univerisity.\n",
      "\n",
      "Title: A Michigan Sojourn: An International Grad's Tale\n",
      "\n",
      "Once upon a Midwestern morn,\n",
      "In the heart of Michigan's domain,\n",
      "A scholar from afar was born,\n",
      "In lands where sunsets paint the rain.\n",
      "\n",
      "With dreams of knowledge vast and wide,\n",
      "He sought a place where intellects convene,\n",
      "To quench his thirst for truth and stride,\n",
      "In Michigan Tech, his\n"
     ]
    }
   ],
   "source": [
    "import torch\n",
    "from transformers import AutoTokenizer, AutoModelForCausalLM\n",
    "import random\n",
    "import os \n",
    "\n",
    "\n",
    "\n",
    "# Load the LLM model and tokenizer\n",
    "tokenizer = AutoTokenizer.from_pretrained(\"mistralai/Mistral-7B-Instruct-v0.2\")\n",
    "model = AutoModelForCausalLM.from_pretrained(\"mistralai/Mistral-7B-Instruct-v0.2\",torch_dtype=torch.bfloat16,pad_token_id=tokenizer.eos_token_id)\n",
    "\n",
    "\n",
    "full_prompt = \"Take inspiration from  William Shakespeare and write a poem about of life of international graduate student who doing his masters in michigan technological univerisity\"\n",
    "\n",
    "# Set the padding token for the tokenizer\n",
    "tokenizer.pad_token = tokenizer.eos_token\n",
    "\n",
    "\n",
    "# Tokenize the prompt\n",
    "inputs = tokenizer(full_prompt, return_tensors=\"pt\", truncation=True, padding=True, max_length=128)\n",
    "\n",
    "\n",
    "# Move model to CUDA device if available\n",
    "device1 = torch.device(\"cuda:1\" if torch.cuda.is_available() else \"cpu\")\n",
    "model.to(device1)\n",
    "\n",
    "\n",
    "# Generate response\n",
    "generate_ids = model.generate(inputs.input_ids.to(device1), max_length=128)\n",
    "output = tokenizer.batch_decode(generate_ids, skip_special_tokens=True, clean_up_tokenization_spaces=False)[0]\n",
    "print(output)"
   ]
  },
  {
   "cell_type": "code",
   "execution_count": 2,
   "id": "9054127f-4bce-4353-950a-2eb56f1801d6",
   "metadata": {},
   "outputs": [
    {
     "name": "stderr",
     "output_type": "stream",
     "text": [
      "The attention mask and the pad token id were not set. As a consequence, you may observe unexpected behavior. Please pass your input's `attention_mask` to obtain reliable results.\n",
      "Setting `pad_token_id` to `eos_token_id`:2 for open-end generation.\n"
     ]
    },
    {
     "name": "stdout",
     "output_type": "stream",
     "text": [
      "Take inspiration from  William Shakespeare and write a poem about of life of international graduate student who doing his masters in michigan technological univerisity.\n",
      "\n",
      "In the heart of Michigan, where the Wolverines roam,\n",
      "A student from afar, in quest of a new home,\n",
      "With knowledge as his quest, and dreams to pursue,\n",
      "He steps upon the campus, clad in wonder and hue.\n",
      "\n",
      "From the land of the rising sun, where the cherry blossoms bloom,\n",
      "He embarks on a journey, to gain a brighter room,\n",
      "In the h\n"
     ]
    }
   ],
   "source": [
    "# Generate response\n",
    "generate_ids = model.generate(inputs.input_ids.to(device1), max_length=128,do_sample=True,\n",
    "    top_k=50,\n",
    "    top_p=0.95)\n",
    "output = tokenizer.batch_decode(generate_ids, skip_special_tokens=True, clean_up_tokenization_spaces=False)[0]\n",
    "print(output)"
   ]
  },
  {
   "cell_type": "code",
   "execution_count": 1,
   "id": "997d3833-d39d-4539-809c-13d438bb2614",
   "metadata": {},
   "outputs": [
    {
     "name": "stderr",
     "output_type": "stream",
     "text": [
      "Setting `pad_token_id` to `eos_token_id`:50256 for open-end generation.\n"
     ]
    },
    {
     "name": "stdout",
     "output_type": "stream",
     "text": [
      "Output:\n",
      "----------------------------------------------------------------------------------------------------\n",
      "Take inspiration from  William Shakespeare and write a poem about of life of international graduate student who doing his masters in michigan technological univerisity.\n",
      "\n",
      "The first thing I did was to write a poem about my life in the world of michigan technology. I was a graduate student in the Department of Computer Science at the University of California, Berkeley. I was studying computer science at the University of California, Berkeley. I was studying computer science at the University of California, Berkeley. I was studying computer science at the University of California, Berkeley. I was studying computer science at the University of California, Berkeley. I was studying computer science at the University of California, Berkeley. I was studying computer science at the University of California, Berkeley. I was studying computer science at\n"
     ]
    }
   ],
   "source": [
    "from transformers import AutoModelForCausalLM, AutoTokenizer\n",
    "import torch\n",
    "\n",
    "torch_device = \"cuda:1\" if torch.cuda.is_available() else \"cpu\"\n",
    "\n",
    "tokenizer = AutoTokenizer.from_pretrained(\"gpt2\")\n",
    "\n",
    "# add the EOS token as PAD token to avoid warnings\n",
    "model = AutoModelForCausalLM.from_pretrained(\"gpt2\", pad_token_id=tokenizer.eos_token_id).to(torch_device)\n",
    "\n",
    "full_prompt = \"Take inspiration from  William Shakespeare and write a poem about of life of international graduate student who doing his masters in michigan technological univerisity\"\n",
    "\n",
    "# encode context the generation is conditioned on\n",
    "model_inputs = tokenizer(full_prompt, return_tensors='pt').to(torch_device)\n",
    "\n",
    "# generate 40 new tokens\n",
    "greedy_output = model.generate(**model_inputs, max_new_tokens=128)\n",
    "\n",
    "print(\"Output:\\n\" + 100 * '-')\n",
    "print(tokenizer.decode(greedy_output[0], skip_special_tokens=True))\n"
   ]
  },
  {
   "cell_type": "code",
   "execution_count": 2,
   "id": "e21fc046-1aef-4a64-af87-6e4861a129e8",
   "metadata": {},
   "outputs": [
    {
     "name": "stderr",
     "output_type": "stream",
     "text": [
      "Setting `pad_token_id` to `eos_token_id`:50256 for open-end generation.\n"
     ]
    },
    {
     "name": "stdout",
     "output_type": "stream",
     "text": [
      "Output:\n",
      "----------------------------------------------------------------------------------------------------\n",
      "Take inspiration from  William Shakespeare and write a poem about of life of international graduate student who doing his masters in michigan technological univerisity.\n",
      "\n",
      "This is the first of a two-part series.\n",
      "\n",
      "Read the first part of the series here.\n"
     ]
    }
   ],
   "source": [
    "# activate beam search and early_stopping\n",
    "beam_output = model.generate(\n",
    "    **model_inputs,\n",
    "    max_new_tokens=40,\n",
    "    num_beams=5,\n",
    "    early_stopping=True\n",
    ")\n",
    "\n",
    "print(\"Output:\\n\" + 100 * '-')\n",
    "print(tokenizer.decode(beam_output[0], skip_special_tokens=True))\n"
   ]
  },
  {
   "cell_type": "code",
   "execution_count": 3,
   "id": "fbae242a-6014-4d5e-b7fb-b0a8dc0383c3",
   "metadata": {},
   "outputs": [
    {
     "name": "stderr",
     "output_type": "stream",
     "text": [
      "Setting `pad_token_id` to `eos_token_id`:50256 for open-end generation.\n"
     ]
    },
    {
     "name": "stdout",
     "output_type": "stream",
     "text": [
      "Output:\n",
      "----------------------------------------------------------------------------------------------------\n",
      "Take inspiration from  William Shakespeare and write a poem about of life of international graduate student who doing his masters in michigan technological univerisity.\n",
      "\n",
      "This is the first of a two-part series. The first part of the series will take you through the history of MICHIGAN, and the second part will focus on the\n"
     ]
    }
   ],
   "source": [
    "# set no_repeat_ngram_size to 2\n",
    "beam_output = model.generate(\n",
    "    **model_inputs,\n",
    "    max_new_tokens=40,\n",
    "    num_beams=5,\n",
    "    no_repeat_ngram_size=2,\n",
    "    early_stopping=True\n",
    ")\n",
    "\n",
    "print(\"Output:\\n\" + 100 * '-')\n",
    "print(tokenizer.decode(beam_output[0], skip_special_tokens=True))\n"
   ]
  },
  {
   "cell_type": "code",
   "execution_count": 4,
   "id": "64af257d-12cf-4544-841e-54cb34db1e5b",
   "metadata": {},
   "outputs": [
    {
     "name": "stderr",
     "output_type": "stream",
     "text": [
      "Setting `pad_token_id` to `eos_token_id`:50256 for open-end generation.\n"
     ]
    },
    {
     "name": "stdout",
     "output_type": "stream",
     "text": [
      "Output:\n",
      "----------------------------------------------------------------------------------------------------\n",
      "0: Take inspiration from  William Shakespeare and write a poem about of life of international graduate student who doing his masters in michigan technological univerisity.\n",
      "\n",
      "This is the first of a two-part series. The first part of the series will take you through the history of MICHIGAN, and the second part will focus on the\n",
      "1: Take inspiration from  William Shakespeare and write a poem about of life of international graduate student who doing his masters in michigan technological univerisity.\n",
      "\n",
      "This is the first of a two-part series. The first part of the series will take you through the history of MICHIGAN, and the second part will look at the\n",
      "2: Take inspiration from  William Shakespeare and write a poem about of life of international graduate student who doing his masters in michigan technological univerisity.\n",
      "\n",
      "This is the first of a two-part series. The first part of the series will take you through the history of MICHIGAN, and the second part will focus on M\n",
      "3: Take inspiration from  William Shakespeare and write a poem about of life of international graduate student who doing his masters in michigan technological univerisity.\n",
      "\n",
      "This is the first of a two-part series. The first part of the series will take you through the history of MICHIGAN, and the second part will look at how\n",
      "4: Take inspiration from  William Shakespeare and write a poem about of life of international graduate student who doing his masters in michigan technological univerisity.\n",
      "\n",
      "This is the first of a two-part series. The first part of the series will take you through the history of MICHIGAN, and the second part will look at M\n"
     ]
    }
   ],
   "source": [
    "# set return_num_sequences > 1\n",
    "beam_outputs = model.generate(\n",
    "    **model_inputs,\n",
    "    max_new_tokens=40,\n",
    "    num_beams=5,\n",
    "    no_repeat_ngram_size=2,\n",
    "    num_return_sequences=5,\n",
    "    early_stopping=True\n",
    ")\n",
    "\n",
    "# now we have 3 output sequences\n",
    "print(\"Output:\\n\" + 100 * '-')\n",
    "for i, beam_output in enumerate(beam_outputs):\n",
    "  print(\"{}: {}\".format(i, tokenizer.decode(beam_output, skip_special_tokens=True)))\n"
   ]
  },
  {
   "cell_type": "code",
   "execution_count": 5,
   "id": "14e4bbf7-f11e-489c-976e-49271e35616f",
   "metadata": {},
   "outputs": [
    {
     "name": "stderr",
     "output_type": "stream",
     "text": [
      "Setting `pad_token_id` to `eos_token_id`:50256 for open-end generation.\n"
     ]
    },
    {
     "name": "stdout",
     "output_type": "stream",
     "text": [
      "Output:\n",
      "----------------------------------------------------------------------------------------------------\n",
      "Take inspiration from  William Shakespeare and write a poem about of life of international graduate student who doing his masters in michigan technological univerisity from this academic position in yandere go homburg Kega. His piece is imagined both as world famous and lo-fi. There`s also much dialogue (with Lipinski and a\n"
     ]
    }
   ],
   "source": [
    "# set seed to reproduce results. Feel free to change the seed though to get different results\n",
    "\n",
    "\n",
    "# activate sampling and deactivate top_k by setting top_k sampling to 0\n",
    "sample_output = model.generate(\n",
    "    **model_inputs,\n",
    "    max_new_tokens=40,\n",
    "    do_sample=True,\n",
    "    top_k=0\n",
    ")\n",
    "\n",
    "print(\"Output:\\n\" + 100 * '-')\n",
    "print(tokenizer.decode(sample_output[0], skip_special_tokens=True))\n"
   ]
  },
  {
   "cell_type": "code",
   "execution_count": 6,
   "id": "39ac54c3-b823-44d6-ab3f-017e2f8c8cbb",
   "metadata": {},
   "outputs": [
    {
     "name": "stderr",
     "output_type": "stream",
     "text": [
      "Setting `pad_token_id` to `eos_token_id`:50256 for open-end generation.\n"
     ]
    },
    {
     "name": "stdout",
     "output_type": "stream",
     "text": [
      "Output:\n",
      "----------------------------------------------------------------------------------------------------\n",
      "Take inspiration from  William Shakespeare and write a poem about of life of international graduate student who doing his masters in michigan technological univerisity studies with his students.\n",
      "\n",
      "A Word on Teaching and Learning English\n",
      "\n",
      "The world of learning is changing fast. Many students want to learn more and more and more. Many teachers are not used\n"
     ]
    }
   ],
   "source": [
    "\n",
    "\n",
    "# use temperature to decrease the sensitivity to low probability candidates\n",
    "sample_output = model.generate(\n",
    "    **model_inputs,\n",
    "    max_new_tokens=40,\n",
    "    do_sample=True,\n",
    "    top_k=0,\n",
    "    temperature=0.6,\n",
    ")\n",
    "\n",
    "print(\"Output:\\n\" + 100 * '-')\n",
    "print(tokenizer.decode(sample_output[0], skip_special_tokens=True))\n"
   ]
  },
  {
   "cell_type": "code",
   "execution_count": 7,
   "id": "9740c789-c08b-4140-af66-5cc18ba4c815",
   "metadata": {},
   "outputs": [
    {
     "name": "stderr",
     "output_type": "stream",
     "text": [
      "Setting `pad_token_id` to `eos_token_id`:50256 for open-end generation.\n"
     ]
    },
    {
     "name": "stdout",
     "output_type": "stream",
     "text": [
      "Output:\n",
      "----------------------------------------------------------------------------------------------------\n",
      "Take inspiration from  William Shakespeare and write a poem about of life of international graduate student who doing his masters in michigan technological univerisity. Read more\n",
      "\n",
      "I'll be back in the next few days with a bit more of a look into the things I've learned from my time at Stanford, and what I've learned in life\n"
     ]
    }
   ],
   "source": [
    "\n",
    "# use temperature to decrease the sensitivity to low probability candidates\n",
    "sample_output = model.generate(\n",
    "    **model_inputs,\n",
    "    max_new_tokens=40,\n",
    "    do_sample=True,\n",
    "    top_k=0,\n",
    "    temperature=0.6,\n",
    ")\n",
    "\n",
    "print(\"Output:\\n\" + 100 * '-')\n",
    "print(tokenizer.decode(sample_output[0], skip_special_tokens=True))\n"
   ]
  },
  {
   "cell_type": "code",
   "execution_count": 8,
   "id": "6ab7a2ab-1112-491e-b911-63b59748a852",
   "metadata": {},
   "outputs": [
    {
     "name": "stderr",
     "output_type": "stream",
     "text": [
      "Setting `pad_token_id` to `eos_token_id`:50256 for open-end generation.\n"
     ]
    },
    {
     "name": "stdout",
     "output_type": "stream",
     "text": [
      "Output:\n",
      "----------------------------------------------------------------------------------------------------\n",
      "Take inspiration from  William Shakespeare and write a poem about of life of international graduate student who doing his masters in michigan technological univerisity of battlefield conditions in two frigid refugee camps in the Caribbean. When people check this out, through the face of Facebook notifications, it pays to describe how the wall is basically soundproof that is difficult\n"
     ]
    }
   ],
   "source": [
    "\n",
    "\n",
    "# set top_k to 50\n",
    "sample_output = model.generate(\n",
    "    **model_inputs,\n",
    "    max_new_tokens=40,\n",
    "    do_sample=True,\n",
    "    top_p=0.92,\n",
    "    top_k=0\n",
    ")\n",
    "\n",
    "print(\"Output:\\n\" + 100 * '-')\n",
    "print(tokenizer.decode(sample_output[0], skip_special_tokens=True))\n"
   ]
  },
  {
   "cell_type": "code",
   "execution_count": 9,
   "id": "52c705d0-c303-40b9-adbd-5db380e4aab6",
   "metadata": {},
   "outputs": [
    {
     "name": "stderr",
     "output_type": "stream",
     "text": [
      "Setting `pad_token_id` to `eos_token_id`:50256 for open-end generation.\n"
     ]
    },
    {
     "name": "stdout",
     "output_type": "stream",
     "text": [
      "Output:\n",
      "----------------------------------------------------------------------------------------------------\n",
      "0: Take inspiration from  William Shakespeare and write a poem about of life of international graduate student who doing his masters in michigan technological univerisity. I hope it might be the perfect opportunity to show these things to students of the U of I, and also the world, and their own experience of the world we have now on our side.\n",
      "\n",
      "Thanks very much for reading! My most cherished desire, that I will be able to be able to show to my wife and our children at that moment the world you have just created. I hope you will take inspiration from you very much!\n",
      "1: Take inspiration from  William Shakespeare and write a poem about of life of international graduate student who doing his masters in michigan technological univerisity and what that may mean. This may be one of our few opportunities to see what he did while in his own right with an inspiring story of the human spirit and wonder.\n",
      "\n",
      "Michele J. Beasley at the University of Minnesota:\n",
      "\n",
      "Andrea's The Book of Iain Macmillan's The World of Ice-Men has inspired a whole generation to think about how the world shapes, is shaped, and sustains the world. She is also the lead author of a brilliant book, and on March 24th, the Library of Congress held a conference on her work to raise more awareness of her works and her\n",
      "2: Take inspiration from  William Shakespeare and write a poem about of life of international graduate student who doing his masters in michigan technological univerisity.\n",
      "\n",
      "As you can imagine the school has been huge in terms of their staff, who have always made their names in the world of technology. They are very friendly and good students. We have several students who have been studying computer engineering on campus for over a year now. It is great to see their enthusiasm for learning and learning again. So, please take inspiration from William Shakespeare and write a poem about of life of international graduate student who doing his masters in michigan technological univerisity. The university is a great place to be. It offers a great university and it offers great opportunities to study the best in computer science\n"
     ]
    }
   ],
   "source": [
    "\n",
    "\n",
    "# set top_k = 50 and set top_p = 0.95 and num_return_sequences = 3\n",
    "sample_outputs = model.generate(\n",
    "    **model_inputs,\n",
    "    max_new_tokens=128,\n",
    "    do_sample=True,\n",
    "    top_k=50,\n",
    "    top_p=0.95,\n",
    "    num_return_sequences=3,\n",
    ")\n",
    "\n",
    "print(\"Output:\\n\" + 100 * '-')\n",
    "for i, sample_output in enumerate(sample_outputs):\n",
    "  print(\"{}: {}\".format(i, tokenizer.decode(sample_output, skip_special_tokens=True)))\n"
   ]
  },
  {
   "cell_type": "code",
   "execution_count": null,
   "id": "b0eccdb6-6860-4d5d-8b41-766014a7736c",
   "metadata": {},
   "outputs": [],
   "source": []
  }
 ],
 "metadata": {
  "kernelspec": {
   "display_name": "Python (GPU)",
   "language": "python",
   "name": "gpu_env"
  },
  "language_info": {
   "codemirror_mode": {
    "name": "ipython",
    "version": 3
   },
   "file_extension": ".py",
   "mimetype": "text/x-python",
   "name": "python",
   "nbconvert_exporter": "python",
   "pygments_lexer": "ipython3",
   "version": "3.8.18"
  }
 },
 "nbformat": 4,
 "nbformat_minor": 5
}
